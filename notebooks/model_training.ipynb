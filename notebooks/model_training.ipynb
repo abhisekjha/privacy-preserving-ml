{
 "cells": [
  {
   "cell_type": "code",
   "execution_count": 1,
   "metadata": {},
   "outputs": [
    {
     "ename": "ModuleNotFoundError",
     "evalue": "No module named 'src'",
     "output_type": "error",
     "traceback": [
      "\u001b[0;31m---------------------------------------------------------------------------\u001b[0m",
      "\u001b[0;31mModuleNotFoundError\u001b[0m                       Traceback (most recent call last)",
      "Cell \u001b[0;32mIn[1], line 4\u001b[0m\n\u001b[1;32m      2\u001b[0m \u001b[38;5;28;01mimport\u001b[39;00m \u001b[38;5;21;01mnumpy\u001b[39;00m \u001b[38;5;28;01mas\u001b[39;00m \u001b[38;5;21;01mnp\u001b[39;00m\n\u001b[1;32m      3\u001b[0m \u001b[38;5;28;01mimport\u001b[39;00m \u001b[38;5;21;01mtensorflow\u001b[39;00m \u001b[38;5;28;01mas\u001b[39;00m \u001b[38;5;21;01mtf\u001b[39;00m\n\u001b[0;32m----> 4\u001b[0m \u001b[38;5;28;01mfrom\u001b[39;00m \u001b[38;5;21;01msrc\u001b[39;00m\u001b[38;5;21;01m.\u001b[39;00m\u001b[38;5;21;01mmodel\u001b[39;00m \u001b[38;5;28;01mimport\u001b[39;00m build_model\n\u001b[1;32m      5\u001b[0m \u001b[38;5;28;01mfrom\u001b[39;00m \u001b[38;5;21;01msrc\u001b[39;00m\u001b[38;5;21;01m.\u001b[39;00m\u001b[38;5;21;01mdifferential_privacy\u001b[39;00m \u001b[38;5;28;01mimport\u001b[39;00m apply_differential_privacy, compute_privacy_epsilon\n\u001b[1;32m      7\u001b[0m \u001b[38;5;66;03m# Load the preprocessed data\u001b[39;00m\n",
      "\u001b[0;31mModuleNotFoundError\u001b[0m: No module named 'src'"
     ]
    }
   ],
   "source": [
    "# Import necessary libraries\n",
    "import numpy as np\n",
    "import tensorflow as tf\n",
    "from src.model import build_model\n",
    "from src.differential_privacy import apply_differential_privacy, compute_privacy_epsilon\n",
    "\n",
    "# Load the preprocessed data\n",
    "data = np.load('data/processed/mnist.npz')\n",
    "x_train, y_train, x_test, y_test = data['x_train'], data['y_train'], data['x_test'], data['y_test']\n",
    "\n",
    "# Build the model\n",
    "input_shape = (28, 28, 1)\n",
    "num_classes = 10\n",
    "model = build_model(input_shape, num_classes)\n",
    "\n",
    "# Apply differential privacy\n",
    "learning_rate = 0.001\n",
    "l2_norm_clip = 1.0\n",
    "noise_multiplier = 1.1\n",
    "num_microbatches = 32\n",
    "model = apply_differential_privacy(model, 'sparse_categorical_crossentropy', learning_rate, l2_norm_clip, noise_multiplier, num_microbatches)\n",
    "\n",
    "# Train the model\n",
    "model.fit(x_train, y_train, epochs=10, batch_size=32, validation_data=(x_test, y_test))\n",
    "\n",
    "# Compute the privacy epsilon\n",
    "num_samples = x_train.shape[0]\n",
    "batch_size = 32\n",
    "epochs = 10\n",
    "epsilon = compute_privacy_epsilon(num_samples, batch_size, noise_multiplier, epochs)\n",
    "print(f'Privacy epsilon: {epsilon}')\n"
   ]
  }
 ],
 "metadata": {
  "kernelspec": {
   "display_name": "myenv",
   "language": "python",
   "name": "python3"
  },
  "language_info": {
   "codemirror_mode": {
    "name": "ipython",
    "version": 3
   },
   "file_extension": ".py",
   "mimetype": "text/x-python",
   "name": "python",
   "nbconvert_exporter": "python",
   "pygments_lexer": "ipython3",
   "version": "3.12.3"
  }
 },
 "nbformat": 4,
 "nbformat_minor": 2
}
